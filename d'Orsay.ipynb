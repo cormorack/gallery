{
 "cells": [
  {
   "cell_type": "markdown",
   "metadata": {},
   "source": [
    "# Pre-content: Planning\n",
    "\n",
    "- Reference and do not repeat on: [Friedrich's ed stuff](https://github.com/ooi-data-review/2018-data-workshops/blob/master/physics/examples/Example%2002%20-%20Using%20the%20OOI%20API%20with%20Python.ipynb)\n",
    "- Take a look at [Keenan's work](https://github.com/cormorack/notebooks/blob/master/dev_notebooks/keenan/DO%20vs.%20Temperature%20vs.%20Nitrate.ipynb)\n",
    "as well with Don\n",
    "- Bridge back to portal: Recreate this chart\n",
    "- App mode available? Turns the code on/off; is this part of JupyterLab\n",
    "- Affirmation: Having the code present is a key element of 'feasibility argument'\n",
    "- Time series chlorophyll as complementary courtesy NASA/CMR: Profiler let's us translate that down thru 200 meters\n",
    "- Technical challenge: Data presistence/volume. Address by May 30; possibly with some zarr \n",
    "- Gallery to cormorack org; work in a dev branch\n",
    "- Start communication strategy\n",
    "- More in situo: gliders, surface stations, tethered; again with emphasis on chlorophyll\n",
    "- Teaching 'resolve separately timed observations' is very endorsed as super valuable\n",
    "- Looking for guidance in terms of what we want to see\n",
    "- Susan (instructor for OCNG-200 physical ocng course) to get feedback\n",
    "- Hunter: can use accordion windows to hide code\n",
    "- Might be good to get Friedrich’s feedback given previous education experience\n",
    "- Needed here:\n",
    "  - MODIS Chlor-A\n",
    "  - whale call at top on Play button\n",
    "  - Less lurid color schemes for GLODAP\n",
    "  - Compare the glodap temperature difference by overlaying a glodap temperature profile 'nearest' and include in observations\n",
    "  - Clean up the ARGO inclusion and add a GLODAP; this should be a separate dedicated comparative chart\n",
    "\n",
    "\n",
    "# Ocean Science\n",
    "\n",
    "<img src=\"./humpback.png\" style=\"float: left;\" alt=\"drawing\" width=\"500\"/>\n",
    "<div style=\"clear: left\"><BR>\n",
    "\n",
    "The ocean is full of water, true, but it also contains dissolved oxygen and and nitrates and chlorophyll and carbonates \n",
    "as well as heat and light; all varying with depth and time and latitude \n",
    "and longitude, not to mention that of course there are whales. Whales and volcanoes\n",
    "and shipwrecks and coral reefs and so on. Ocean science considers the ocean as a \n",
    "vast system of interacting components. The challenge is understanding how they fit together. \n",
    "\n",
    "\n",
    "The interested reader is here invited to think (deeply...) about the ocean through the lens of data: Measurements that \n",
    "we make via automated sensors on a time scale of seconds. We consider for the moment the upper 200 meters of the ocean. \n",
    "\n",
    "\n",
    "Why 200 meters particularly? First because 200 meters is as deep as sunlight can hope to penetrate into the\n",
    "ocean; sunlight being the energy supply for biological production of sugar (photosynthesis). The upper layer\n",
    "of water contains the bulk of the ocean's biological production engine. Attuned to this idea we find\n",
    "that the Regional Cabled Observator (RCO) supports a network of profilers -- human-built observing pods about \n",
    "the size of a laundry basket -- that periodically rise and fall through the water column. Here is a chart showing \n",
    "ascent and descent cycles of two such pods over 24 hours: A deep profiler (green) and a shallow profiler (red) \n",
    "located near one another on the continental shelf off of Oregon. Notice the shallow profiler ascends\n",
    "from 200 meters depth to near the surface nine times in the course of a single day. \n",
    "\n",
    "\n",
    "<img src=\"../data/images/profilers_depth_24_hours.png\" style=\"float: left;\" alt=\"drawing\" width=\"700\"/>\n",
    "<div style=\"clear: left\">\n",
    "\n",
    "\n",
    "<BR>\n",
    "This notebook concerns data from a shallow profiler where we hope to...\n",
    "\n",
    "</div>\n",
    "\n",
    "- obtain data, analyze it { depth, temperature, available light, salinity, dissolved oxygen, nitrate, carbon dioxide, chlorophyll, pH }\n",
    "- compare these measurements to measurements from other resources\n",
    "\n",
    "\n",
    "### Related Links \n",
    "\n",
    "- [RCO data access notebook](https://github.com/cormorack/yodapy/tree/master/examples)\n",
    "- [Interactive oceans engineering page](https://interactiveoceans.washington.edu/oms_data/) (click **Profiler Summary**)"
   ]
  },
  {
   "cell_type": "code",
   "execution_count": 40,
   "metadata": {},
   "outputs": [
    {
     "name": "stdout",
     "output_type": "stream",
     "text": [
      "Requirement already satisfied: utm in /opt/conda/lib/python3.6/site-packages\n",
      "\u001b[33mYou are using pip version 9.0.1, however version 19.0.3 is available.\n",
      "You should consider upgrading via the 'pip install --upgrade pip' command.\u001b[0m\n",
      "Requirement already satisfied: pygeotools in /opt/conda/lib/python3.6/site-packages\n",
      "Requirement already satisfied: scipy in /opt/conda/lib/python3.6/site-packages (from pygeotools)\n",
      "Requirement already satisfied: numpy in /opt/conda/lib/python3.6/site-packages (from pygeotools)\n",
      "Requirement already satisfied: matplotlib in /opt/conda/lib/python3.6/site-packages (from pygeotools)\n",
      "Requirement already satisfied: gdal in /opt/conda/lib/python3.6/site-packages (from pygeotools)\n",
      "Requirement already satisfied: cycler>=0.10 in /opt/conda/lib/python3.6/site-packages (from matplotlib->pygeotools)\n",
      "Requirement already satisfied: kiwisolver>=1.0.1 in /opt/conda/lib/python3.6/site-packages (from matplotlib->pygeotools)\n",
      "Requirement already satisfied: pyparsing!=2.0.4,!=2.1.2,!=2.1.6,>=2.0.1 in /opt/conda/lib/python3.6/site-packages (from matplotlib->pygeotools)\n",
      "Requirement already satisfied: python-dateutil>=2.1 in /opt/conda/lib/python3.6/site-packages (from matplotlib->pygeotools)\n",
      "Requirement already satisfied: six in /opt/conda/lib/python3.6/site-packages (from cycler>=0.10->matplotlib->pygeotools)\n",
      "Requirement already satisfied: setuptools in /opt/conda/lib/python3.6/site-packages (from kiwisolver>=1.0.1->matplotlib->pygeotools)\n",
      "\u001b[33mYou are using pip version 9.0.1, however version 19.0.3 is available.\n",
      "You should consider upgrading via the 'pip install --upgrade pip' command.\u001b[0m\n"
     ]
    }
   ],
   "source": [
    "%matplotlib inline\n",
    "!pip install utm\n",
    "!pip install pygeotools\n",
    "import timeit, pandas as pd, netCDF4, xarray as xr, dask, numpy as np, sys, os, utm, golive_utility as g\n",
    "from datetime import timedelta, datetime\n",
    "from matplotlib import pyplot as plt, dates as mdates\n",
    "from numpy import datetime64 as dt64, timedelta64 as td64\n",
    "from scipy import stats\n",
    "from scipy.signal import medfilt as mf\n",
    "from random import randint as ri\n",
    "from ipywidgets import *\n",
    "from traitlets import dlink\n",
    "from mpl_toolkits.mplot3d import Axes3D\n",
    "np.warnings.filterwarnings('ignore')"
   ]
  },
  {
   "cell_type": "markdown",
   "metadata": {},
   "source": [
    "### a global ocean snapshot\n",
    "\n",
    "The three maps that follow show most of the earth's oceans in terms of oxygen, salinity and temperature. \n",
    "These are sliced by depth; so for each map you can move the depth slider to examine a particular slice.\n",
    "The depth you are viewing is shown on the map at the lower left; and the deeper slices extend below\n",
    "the sea floor over much of the earth; so there is no data. "
   ]
  },
  {
   "cell_type": "code",
   "execution_count": 70,
   "metadata": {
    "scrolled": false
   },
   "outputs": [
    {
     "data": {
      "application/vnd.jupyter.widget-view+json": {
       "model_id": "31c4e7131ade4b95b1efb29844a30006",
       "version_major": 2,
       "version_minor": 0
      },
      "text/plain": [
       "interactive(children=(IntSlider(value=5, continuous_update=False, description='depth', max=32), Output()), _do…"
      ]
     },
     "metadata": {},
     "output_type": "display_data"
    },
    {
     "data": {
      "application/vnd.jupyter.widget-view+json": {
       "model_id": "6cc35ab177e24dbb9b64c0b140d17d1f",
       "version_major": 2,
       "version_minor": 0
      },
      "text/plain": [
       "interactive(children=(IntSlider(value=0, continuous_update=False, description='depth', max=32), Output()), _do…"
      ]
     },
     "metadata": {},
     "output_type": "display_data"
    },
    {
     "data": {
      "application/vnd.jupyter.widget-view+json": {
       "model_id": "a16517392f1d4dfe83ce2dbce4d180b1",
       "version_major": 2,
       "version_minor": 0
      },
      "text/plain": [
       "interactive(children=(IntSlider(value=13, continuous_update=False, description='depth', max=32), Output()), _d…"
      ]
     },
     "metadata": {},
     "output_type": "display_data"
    },
    {
     "data": {
      "text/plain": [
       "<function __main__.pTemp>"
      ]
     },
     "execution_count": 70,
     "metadata": {},
     "output_type": "execute_result"
    }
   ],
   "source": [
    "S=xr.open_dataset('data/gsal.nc'); T = xr.open_dataset('data/gtemp.nc'); O = xr.open_dataset('data/gO2.nc')\n",
    "plt.rcParams.update({'font.size': 20})\n",
    "\n",
    "def pO2(depth_index):\n",
    "    O['oxygen'].sel(depth_surface = depth_index).plot(figsize=(16, 10),cmap=plt.cm.bwr_r,vmin=150, vmax=350)\n",
    "    msg = 'This is for '\n",
    "    if depth_index == 0: msg += 'surface water'\n",
    "    else:                msg += 'water at ' + str(int(O['Depth'].values[depth_index])) + ' meters depth'\n",
    "    plt.text(25, -87, msg); plt.text(28, 50, 'oxygen dissolved in'); plt.text(28, 42, '     ocean water   ')\n",
    "    \n",
    "def pSal(depth_index):\n",
    "    S['salinity'].sel(depth_surface = depth_index).plot(figsize=(16, 10),cmap=plt.cm.brg,vmin=33, vmax=36)\n",
    "    msg = 'This is for '\n",
    "    if depth_index == 0: msg += 'surface water'\n",
    "    else: msg += 'water at ' + str(int(S['Depth'].values[depth_index])) + ' meters depth'\n",
    "    plt.text(25, -87, msg); plt.text(47, 50, 'salinity of'); plt.text(47, 42, 'ocean water')\n",
    "\n",
    "def pTemp(depth_index):\n",
    "    T['temperature'].sel(depth_surface = depth_index).plot(figsize=(16, 10),cmap=plt.cm.gist_rainbow_r,vmin=2., vmax=10.)\n",
    "    msg = 'This is for '\n",
    "    if depth_index == 0: msg += 'surface water'\n",
    "    else: msg += 'water at ' + str(int(T['Depth'].values[depth_index])) + ' meters depth'\n",
    "    plt.text(25, -87, msg); plt.text(47, 50, 'temperature of'); plt.text(47, 42, 'ocean water')\n",
    "\n",
    "interact(pO2,   depth_index=widgets.IntSlider(min=0,max=32,step=1,value=5,  continuous_update=False, description='depth'))\n",
    "interact(pSal,  depth_index=widgets.IntSlider(min=0,max=32,step=1,value=0,  continuous_update=False, description='depth'))\n",
    "interact(pTemp, depth_index=widgets.IntSlider(min=0,max=32,step=1,value=13, continuous_update=False, description='depth')) "
   ]
  },
  {
   "cell_type": "code",
   "execution_count": 71,
   "metadata": {},
   "outputs": [
    {
     "data": {
      "application/vnd.jupyter.widget-view+json": {
       "model_id": "2e664c809c4f4c64996279afff2479e9",
       "version_major": 2,
       "version_minor": 0
      },
      "text/plain": [
       "Map(basemap={'url': 'https://{s}.tile.openstreetmap.org/{z}/{x}/{y}.png', 'max_zoom': 19, 'attribution': 'Map …"
      ]
     },
     "metadata": {},
     "output_type": "display_data"
    }
   ],
   "source": [
    "from ipyleaflet import WMSLayer, Map\n",
    "m = Map(center=(46.0, -130.0), zoom=10)\n",
    "m.add_layer(WMSLayer(url=\"http://52.41.106.186:8080/geoserver/ows?\", layers=\"bmpyramid:CAVA_Bathymetry\", \\\n",
    "                     format=\"image/png\", transparent=True, opacity=0.7))\n",
    "m"
   ]
  },
  {
   "cell_type": "markdown",
   "metadata": {},
   "source": [
    "### searching for and requesting data\n",
    "\n",
    "This code is the basis for requesting data from the Ocean Observing Initiative data archive.\n",
    "\n",
    "```\n",
    "from yodapy.datasources import OOI\n",
    "ooi = OOI() \n",
    "ooi.view_sites()                        \n",
    "ooi.search(region='cabled', site='oregon slope base shallow profiler', instrument='spectral', node='profiler')\n",
    "ooi.view_instruments()\n",
    "myDataRequest = ooi.request_data(begin_date='2017-08-21', end_date='2017-08-22')\n",
    "```\n",
    "\n",
    "A key idea is using an object (called `ooi`) that has a built-in filter. One narrows the filter\n",
    "settings down before requesting data. Further details are covered in the science notebooks. \n",
    "\n",
    "\n",
    "Data files for one day range from 30 observations to over 100,000. \n",
    "As noted above there are nine profiles per day made by the 'shallow profiler'\n",
    "(see red line in the chart at the top).\n",
    "\n",
    "\n",
    "In what follows we consider eight types of data\n",
    "\n",
    "- From the **CTD** instrument (one measurement per second)\n",
    "  - depth (as pressure in decibars, corresponding closely to meters below the surface)\n",
    "  - temperature (deg Celsius)\n",
    "  - salinity (as 'practical salinity units' which is close to parts per thousand salt concentration)\n",
    "  - dissolved oxygen (important to zooplankton and other heterotrophs)\n",
    "- From the **pH** instrument (30 measurements per day)\n",
    "  - pH (in the case of the ocean alkalinity, greater than 7.0\n",
    "- From the **nitrate** instrument (about two measurements per minute)\n",
    "  - nitrate concentration, measured only during the midnight and noon profiles (not the other seven)\n",
    "- From the **Photosynthetically Active Radiation (PAR)** sensor; measuring about three times per second\n",
    "  - PAR count\n",
    "- From the **Fluorometer**, measured about once per second\n",
    "  - Chlorophyll concentration inferred by fluorescence\n",
    "- From the **Spectral Irradiance** instrument; several times per second\n",
    "  - Ambient light levels for seven distinct wavelengths"
   ]
  },
  {
   "cell_type": "code",
   "execution_count": 72,
   "metadata": {},
   "outputs": [],
   "source": [
    "ctdF     = xr.open_dataset('data/osb_shallow_ctd.nc');\n",
    "phF      = xr.open_dataset('data/osb_shallow_ph.nc');\n",
    "nitrateF = xr.open_dataset('data/osb_shallow_nitrate.nc');\n",
    "parF     = xr.open_dataset('data/osb_shallow_par.nc');\n",
    "fluorF   = xr.open_dataset('data/osb_shallow_fluor.nc');\n",
    "siF      = xr.open_dataset('data/osb_shallow_si0.nc'); "
   ]
  },
  {
   "cell_type": "markdown",
   "metadata": {},
   "source": [
    "### data volume reductions steps\n",
    "\n",
    "- need to apply to ctd (notice indexing will change from [:, 0]) x 4\n",
    "- then PAR\n",
    "- then nitrate\n",
    "- then pH\n",
    "- then fluor\n",
    "\n",
    "And then all of the loads and modifications and crossovers given below should be simplified down as they \n",
    "are mostly no longer necessary; but capture the code. \n",
    "\n",
    "\n",
    "```\n",
    "q=siF.spkir_downwelling_vector[:,0].to_dataset(name='si0')\n",
    "q.coords['time'] = ('time', q.time)\n",
    "q['si0']=(('time'), q.si0)\n",
    "q.drop('obs')\n",
    "q=q.drop('obs').drop('lat').drop('lon').drop('int_ctd_pressure')\n",
    "q.to_netcdf('data/osb_shallow_si0.nc')\n",
    "```"
   ]
  },
  {
   "cell_type": "code",
   "execution_count": 74,
   "metadata": {
    "scrolled": false
   },
   "outputs": [
    {
     "name": "stdout",
     "output_type": "stream",
     "text": [
      "\n"
     ]
    },
    {
     "data": {
      "image/png": "[encoded data removed]",
      "text/plain": [
       "<Figure size 1008x1008 with 9 Axes>"
      ]
     },
     "metadata": {},
     "output_type": "display_data"
    }
   ],
   "source": [
    "# ctd.seawater_pressure.plot() is a quick check plot provided samples are evenly spaced in time\n",
    "#   Better: plot each measurement against its time coordinate\n",
    "n = 9; rn = range(n); rsi = range(7)\n",
    "\n",
    "p,a=plt.subplots(3, 3, figsize=(14,14))\n",
    "plt.rcParams.update({'font.size': 10})\n",
    "a[0,0].plot(ctdF.time, ctdF.seawater_pressure, color='r');                         a[0,0].set(ylim=(200.,0.), title='Depth')\n",
    "a[0,1].plot(ctdF.time, ctdF.practical_salinity, color='k');                        a[0,1].set(title='Salinity')\n",
    "a[0,2].plot(ctdF.time, ctdF.seawater_temperature, color='b');                      a[0,2].set(title='Temperature')\n",
    "a[1,0].plot(ctdF.time, ctdF.corrected_dissolved_oxygen, color='b');                a[1,0].set(title='Dissolved Oxygen')\n",
    "a[1,1].scatter(phF.time.values, phF.ph_seawater.values, color='r');                a[1,1].set(title='pH')\n",
    "a[1,2].scatter(nitrateF.time.values, \\\n",
    "        nitrateF.salinity_corrected_nitrate.values, color='k');                    a[1,2].set(title='Nitrate')\n",
    "a[2,0].plot(parF.time, parF.par_counts_output, color='k');                         a[2,0].set(title='Light')\n",
    "a[2,1].plot(fluorF.time, fluorF.fluorometric_chlorophyll_a, color='b');            a[2,1].set(title='Chlorophyll')\n",
    "for i in rsi: a[2,2].plot(siF.time, siF.si0, color='r');                           a[2,2].set(title='Spectral Irradiance')\n",
    "\n",
    "tFmt   = mdates.DateFormatter(\"%H\")                 # an extended format for strftime() is \"%d/%m/%y %H:%M\"\n",
    "t0, t1 = ctdF.time[0].values, ctdF.time[-1].values  # establish same time range for each chart\n",
    "tticks = [dt64('2017-08-21T06:00'), dt64('2017-08-21T12:00'), dt64('2017-08-21T18:00')]\n",
    "\n",
    "for i in rn: j, k = i//3, i%3; a[j, k].set(xlim=(t0, t1),xticks=tticks); a[j, k].xaxis.set_major_formatter(tFmt)\n",
    "\n",
    "print('')   # also to hide the ninth chart if there were only 8 to show use: a[-1, -1].axis('off')"
   ]
  },
  {
   "cell_type": "markdown",
   "metadata": {},
   "source": [
    "### Our story so far\n",
    "\n",
    "Over a single day we have here eight scalar measurements -- including depth -- as well as *spectral irradiance* \n",
    "shown in the ninth chart featuring seven wavelength intensities. This gives a rather\n",
    "complicated picture of what is happening in the upper 200 meters of the water column in the course of a single day.\n",
    "Here are a few observations, one for each plot...\n",
    "\n",
    "- depth profiles number 4 and 9 seem to have taken longer; with stops along the way back down\n",
    "- profiles 7, 8 and 9 show less salty water near the surface\n",
    "- the water is consistently about 8 degrees C warmer at the surface than it is at 200 meters depth\n",
    "  - glodap and argo comparisons go here \n",
    "- there is more dissolved oxygen in the surface water compared to at-depth\n",
    "- surface water is more alkaline\n",
    "- surface water has a higher concentration of nitrates\n",
    "- night seems to fall from hours 5 to 14 but this is in fact 10pm to 5am local time\n",
    "- chlorophyll concentration seems to increase over the course of the daylight hours\n",
    "- spectral irradiance follows the same pattern as light\n",
    "\n",
    "Where next? It is common to consider how depth associates with the other measurements (temperature, chlorophyll etcetera)\n",
    "so let's do that next. But notice this important detail: A temperature-versus-depth chart for the entire day would \n",
    "hide the fact that over the course of that day the profiler made nine separate passes through the water column from \n",
    "200 meters to near the surface and back again. We will show the data with emphasis on a particular profile selected\n",
    "using a slider control. "
   ]
  },
  {
   "cell_type": "code",
   "execution_count": 84,
   "metadata": {},
   "outputs": [],
   "source": [
    "profdt = [\n",
    "    (dt64('2017-08-21T00:27:30'),dt64('2017-08-21T02:05:00')),\n",
    "    (dt64('2017-08-21T02:42:30'),dt64('2017-08-21T04:19:50')),\n",
    "    (dt64('2017-08-21T04:52:30'),dt64('2017-08-21T06:29:50')),\n",
    "    (dt64('2017-08-21T07:22:30'),dt64('2017-08-21T09:55:40')),\n",
    "    (dt64('2017-08-21T11:12:40'),dt64('2017-08-21T12:49:50')),\n",
    "    (dt64('2017-08-21T13:32:35'),dt64('2017-08-21T15:09:42')),\n",
    "    (dt64('2017-08-21T15:47:30'),dt64('2017-08-21T17:25:00')),\n",
    "    (dt64('2017-08-21T18:12:30'),dt64('2017-08-21T19:49:50')),\n",
    "    (dt64('2017-08-21T20:42:30'),dt64('2017-08-21T23:16:00'))\n",
    "]\n",
    "\n",
    "depth=ctdF.seawater_pressure.to_dataset(name='depth')\n",
    "depth.coords['time'] = ('time', depth.time)\n",
    "depth['depth'] = (('time'), depth.depth)\n",
    "depth=depth.drop('obs').drop('lat').drop('lon').drop('seawater_pressure')\n",
    "depth.depth.attrs['low_value'] = 200.\n",
    "depth.depth.attrs['high_value'] = 0.\n",
    "\n",
    "salinity=ctdF.practical_salinity.to_dataset(name='salinity')\n",
    "salinity.coords['time'] = ('time', salinity.time)\n",
    "salinity['salinity'] = (('time'), salinity.salinity)\n",
    "salinity=salinity.drop('obs').drop('lat').drop('lon').drop('seawater_pressure')\n",
    "salinity.salinity.attrs['low_value'] = 32.\n",
    "salinity.salinity.attrs['high_value'] = 34.\n",
    "\n",
    "temperature=ctdF.seawater_temperature.to_dataset(name='temperature')\n",
    "temperature.coords['time'] = ('time', temperature.time)\n",
    "temperature['temperature'] = (('time'), temperature.temperature)\n",
    "temperature=temperature.drop('obs').drop('lat').drop('lon').drop('seawater_pressure')\n",
    "temperature.temperature.attrs['low_value'] = 7.\n",
    "temperature.temperature.attrs['high_value'] = 16.\n",
    "\n",
    "DO=ctdF.corrected_dissolved_oxygen.to_dataset(name='DO')\n",
    "DO.coords['time'] = ('time', DO.time)\n",
    "DO['DO'] = (('time'), DO.DO)\n",
    "DO=DO.drop('obs').drop('lat').drop('lon').drop('seawater_pressure')\n",
    "DO.DO.attrs['low_value'] = 70.\n",
    "DO.DO.attrs['high_value'] = 280.\n",
    "\n",
    "# The Datasets built above are from single DataArrays where the principle coordinate/dimension \n",
    "#   has been modified to be time (from observation index 'obs'). These Data variables are \n",
    "#   synchronized with depth as they are all produced by the same instrument (the CTD). \n",
    "# In what follows the remaining measurements ( pH, nitrate, par, fluor, si ) will require\n",
    "#   their own depth Data variables; synchronized in time. These values are provided in the\n",
    "#   source data files via interpolation but I discarded them for the sake of learning how to\n",
    "#   do this myself. It is generally not the case that this is 'already done for you' as it \n",
    "#   is in this instance.\n",
    "# Some of the subsequent Datasets are further extended by pulling (salinity, temp, DO) values\n",
    "#   from the CTD. \n",
    "\n",
    "pH=phF.ph_seawater.to_dataset(name='pH')\n",
    "pH.coords['time'] = ('time', pH.time)\n",
    "pH['pH'] = (('time'), pH.pH)\n",
    "pH=pH.drop('obs').drop('lat').drop('lon').drop('int_ctd_pressure')\n",
    "pH['depth']=('time', depth.depth.sel(time=pH.time, method='nearest'))\n",
    "pH.pH.attrs['low_value'] = 7.6\n",
    "pH.pH.attrs['high_value'] = 8.2\n",
    "\n",
    "nitrate=nitrateF.salinity_corrected_nitrate.to_dataset(name='nitrate')\n",
    "nitrate.coords['time'] = ('time', nitrate.time)\n",
    "nitrate['nitrate'] = (('time'), nitrate.nitrate)\n",
    "nitrate=nitrate.drop('obs').drop('lat').drop('lon').drop('int_ctd_pressure')\n",
    "nitrate['depth']=('time', depth.depth.sel(time=nitrate.time, method='nearest'))\n",
    "nitrate['salinity']=('time', salinity.salinity.sel(time=nitrate.time, method='nearest'))\n",
    "nitrate['temperature']=('time', temperature.temperature.sel(time=nitrate.time, method='nearest'))\n",
    "nitrate['DO']=('time', DO.DO.sel(time=nitrate.time, method='nearest'))\n",
    "nitrate.nitrate.attrs['low_value'] = 0.\n",
    "nitrate.nitrate.attrs['high_value'] = 32.\n",
    "nitrate.depth.attrs['low_value'] = depth.depth.attrs['low_value']\n",
    "nitrate.depth.attrs['high_value'] = depth.depth.attrs['high_value']\n",
    "nitrate.temperature.attrs['low_value'] = temperature.temperature.attrs['low_value']\n",
    "nitrate.temperature.attrs['high_value'] = temperature.temperature.attrs['high_value']\n",
    "nitrate.salinity.attrs['low_value'] = salinity.salinity.attrs['low_value']\n",
    "nitrate.salinity.attrs['high_value'] = salinity.salinity.attrs['high_value']\n",
    "nitrate.DO.attrs['low_value'] = DO.DO.attrs['low_value']\n",
    "nitrate.DO.attrs['high_value'] = DO.DO.attrs['high_value']\n",
    "\n",
    "par=parF.par_counts_output.to_dataset(name='par')\n",
    "par.coords['time'] = ('time', par.time)\n",
    "par['par'] = (('time'), par.par)\n",
    "par=par.drop('obs').drop('lat').drop('lon').drop('int_ctd_pressure')\n",
    "par['depth']=('time', depth.depth.sel(time=par.time, method='nearest'))\n",
    "par['salinity']=('time', salinity.salinity.sel(time=par.time, method='nearest'))\n",
    "par['temperature']=('time', temperature.temperature.sel(time=par.time, method='nearest'))\n",
    "par['DO']=('time', DO.DO.sel(time=par.time, method='nearest'))\n",
    "par.par.attrs['low_value'] = 0.\n",
    "par.par.attrs['high_value'] = 250.\n",
    "par.depth.attrs['low_value'] = depth.depth.attrs['low_value']\n",
    "par.depth.attrs['high_value'] = depth.depth.attrs['high_value']\n",
    "par.temperature.attrs['low_value'] = temperature.temperature.attrs['low_value']\n",
    "par.temperature.attrs['high_value'] = temperature.temperature.attrs['high_value']\n",
    "par.salinity.attrs['low_value'] = salinity.salinity.attrs['low_value']\n",
    "par.salinity.attrs['high_value'] = salinity.salinity.attrs['high_value']\n",
    "par.DO.attrs['low_value'] = DO.DO.attrs['low_value']\n",
    "par.DO.attrs['high_value'] = DO.DO.attrs['high_value']\n",
    "\n",
    "fluor=fluorF.fluorometric_chlorophyll_a.to_dataset(name='fluor')\n",
    "fluor.coords['time'] = ('time', fluor.time)\n",
    "fluor['fluor'] = (('time'), fluor.fluor)\n",
    "fluor=fluor.drop('obs').drop('lat').drop('lon').drop('int_ctd_pressure')\n",
    "fluor['depth']=('time', depth.depth.sel(time=fluor.time, method='nearest'))\n",
    "fluor['salinity']=('time', salinity.salinity.sel(time=fluor.time, method='nearest'))\n",
    "fluor['temperature']=('time', temperature.temperature.sel(time=fluor.time, method='nearest'))\n",
    "fluor['DO']=('time', DO.DO.sel(time=fluor.time, method='nearest'))\n",
    "fluor.fluor.attrs['low_value'] = 0.0\n",
    "fluor.fluor.attrs['high_value'] = 1.6\n",
    "fluor.depth.attrs['low_value'] = depth.depth.attrs['low_value']\n",
    "fluor.depth.attrs['high_value'] = depth.depth.attrs['high_value']\n",
    "fluor.temperature.attrs['low_value'] = temperature.temperature.attrs['low_value']\n",
    "fluor.temperature.attrs['high_value'] = temperature.temperature.attrs['high_value']\n",
    "fluor.salinity.attrs['low_value'] = salinity.salinity.attrs['low_value']\n",
    "fluor.salinity.attrs['high_value'] = salinity.salinity.attrs['high_value']\n",
    "fluor.DO.attrs['low_value'] = DO.DO.attrs['low_value']\n",
    "fluor.DO.attrs['high_value'] = DO.DO.attrs['high_value']\n",
    "\n",
    "si=siF\n",
    "si['depth']=('time', depth.depth.sel(time=si.time, method='nearest'))\n",
    "si.si0.attrs['low_value'] = 0.\n",
    "si.si0.attrs['high_value'] = 7."
   ]
  },
  {
   "cell_type": "code",
   "execution_count": 85,
   "metadata": {},
   "outputs": [
    {
     "data": {
      "application/vnd.jupyter.widget-view+json": {
       "model_id": "764c1240759742e69acb3d4c6cbf59ba",
       "version_major": 2,
       "version_minor": 0
      },
      "text/plain": [
       "interactive(children=(Select(description='data type', index=1, options=('depth', 'temperature', 'salinity', 'D…"
      ]
     },
     "metadata": {},
     "output_type": "display_data"
    },
    {
     "data": {
      "text/plain": [
       "<function __main__.PlotConfigure>"
      ]
     },
     "execution_count": 85,
     "metadata": {},
     "output_type": "execute_result"
    }
   ],
   "source": [
    "colorize = ['red', 'orange', 'yellow', 'green', 'lightgreen', 'cyan', 'blue', 'magenta', 'black']\n",
    "\n",
    "argo_d = g.SetDataDirectory('ooi/argo')\n",
    "argo2 = xr.open_dataset(argo_d + 'profile2.nc')\n",
    "a2psu=argo2.PSAL_ADJUSTED[0].to_dataset(name='psu')\n",
    "a2psu.coords['depth'] = ('depth', argo2.PRES_ADJUSTED[0])\n",
    "a2psu['psu'] = (('depth'), a2psu.psu)\n",
    "\n",
    "def VDC(da, z, profile_index, xlabel):       # Versus-Depth Chart\n",
    "    fig,axes = plt.subplots()\n",
    "    fig.set_size_inches(13,9)\n",
    "    axes.set(xlim=(da.low_value, da.high_value), ylim=(200., 0.), xlabel=xlabel, ylabel='Depth (meters)')\n",
    "    for i in range(9):\n",
    "        if i != profile_index: \n",
    "            tmp   = da.where(da.time > profdt[i][0], drop = True)\n",
    "            tmp1  = tmp.where(tmp.time < profdt[i][1], drop = True)\n",
    "            dtmp  = z.where(z.time >  profdt[i][0], drop = True)\n",
    "            dtmp1 = dtmp.where(dtmp.time < profdt[i][1], drop = True)\n",
    "            # print(tmp1, '\\n\\n\\n', dtmp1)\n",
    "            axes.plot(tmp1, dtmp1, ',', color=colorize[i])   # ',' gives small markers\n",
    "    # Now the selected profile prints on top with larger markers\n",
    "    tmp   = da.where(da.time > profdt[profile_index][0], drop = True)\n",
    "    tmp1  = tmp.where(tmp.time < profdt[profile_index][1], drop = True)\n",
    "    dtmp  = z.where(z.time >  profdt[profile_index][0], drop = True)\n",
    "    dtmp1 = dtmp.where(dtmp.time < profdt[profile_index][1], drop = True)       \n",
    "    axes.plot(tmp1, dtmp1, '.', color = colorize[profile_index])    # '.' larger markers\n",
    "    axes.plot(a2psu.psu.values, a2psu.depth.values, 'o-', color='black')\n",
    "\n",
    "\n",
    "def PlotConfigure(X_choice, profile_choice):\n",
    "    profIdx = profile_choice - 1\n",
    "    if   X_choice == 'depth'      : VDC(depth.depth, depth.depth, profIdx, 'depth (meters)')\n",
    "    elif X_choice == 'temperature': VDC(temperature.temperature, depth.depth, profIdx, 'temperature (deg C)')\n",
    "    elif X_choice == 'salinity'   : VDC(salinity.salinity, depth.depth, profIdx, 'salinity (psu)')\n",
    "    elif X_choice == 'DO'         : VDC(DO.DO, depth.depth, profIdx, 'dissolved oxygen (ug/l)')\n",
    "    elif X_choice == 'nitrate'    : VDC(nitrate.nitrate, nitrate.depth, profIdx, 'nitrate')\n",
    "    elif X_choice == 'pH'         : VDC(pH.pH, pH.depth, profIdx, 'pH')\n",
    "    elif X_choice == 'PAR'        : VDC(par.par, par.depth, profIdx, 'light (PAR)')\n",
    "    elif X_choice == 'chlorophyll': VDC(fluor.fluor, fluor.depth, profIdx, 'chlorophyll')\n",
    "    else                          : VDC(si.si0, si.depth, profIdx, 'spectral irradiance')\n",
    "        \n",
    "interact(PlotConfigure, \n",
    "         profile_choice=widgets.IntSlider(min = 1, max = 9, step = 1, value = 1, \n",
    "                    continuous_update = False, readout_format = 'd', description='profile (1-9)'),\n",
    "         \n",
    "         X_choice = widgets.Select(options=['depth', 'temperature', 'salinity', 'DO', \n",
    "                                               'nitrate', 'pH', 'PAR', 'spectral irradiance', 'chlorophyll'],\n",
    "                                      value='temperature', description='data type', disabled = False)\n",
    "        )      "
   ]
  },
  {
   "cell_type": "code",
   "execution_count": 87,
   "metadata": {},
   "outputs": [
    {
     "data": {
      "application/vnd.jupyter.widget-view+json": {
       "model_id": "8fdab3c1216c42679e56f03c701e438c",
       "version_major": 2,
       "version_minor": 0
      },
      "text/plain": [
       "interactive(children=(Select(description='X axis', index=2, options=('depth', 'temperature', 'salinity', 'DO')…"
      ]
     },
     "metadata": {},
     "output_type": "display_data"
    },
    {
     "data": {
      "text/plain": [
       "<function __main__.Caller>"
      ]
     },
     "execution_count": 87,
     "metadata": {},
     "output_type": "execute_result"
    }
   ],
   "source": [
    "def XvY(x, y, xt, yt, xLbl, yLbl):\n",
    "    fig,axes = plt.subplots()\n",
    "    fig.set_size_inches(13,9)\n",
    "    axes.set(xlim=(x.low_value, x.high_value), ylim=(y.low_value, y.high_value), xlabel=xLbl, ylabel=yLbl)\n",
    "    \n",
    "    # par['depth']=('time', depth.depth.sel(time=par.time, method='nearest'))\n",
    "\n",
    "    for i in range(9):\n",
    "        xtmp = x.where(xt > profdt[i][0], drop=True)\n",
    "        xtmp1 = xtmp.where(xtmp.time < profdt[i][1], drop=True).values\n",
    "        ytmp  = y.where(yt > profdt[i][0], drop=True)\n",
    "        ytmp1  = ytmp.where(ytmp.time < profdt[i][1], drop=True).values\n",
    "        axes.plot(xtmp1, ytmp1, ',', color=colorize[i]) \n",
    "        \n",
    "def Caller(xChoice, yChoice):\n",
    "    if xChoice == 'depth':       x = depth.depth;             xt = depth.time;       xs = 'depth (m)'\n",
    "    if xChoice == 'temperature': x = temperature.temperature; xt = temperature.time; xs = 'temp (C)'\n",
    "    if xChoice == 'salinity':    x = salinity.salinity;       xt = salinity.time;    xs = 'salinity (psu)'\n",
    "    if xChoice == 'DO':          x = DO.DO;                   xt = DO.time;          xs = 'DO (ug/l)'\n",
    "        \n",
    "    if yChoice == 'depth':       y = depth.depth;             yt = depth.time;       ys = 'depth (m)'\n",
    "    if yChoice == 'temperature': y = temperature.temperature; yt = temperature.time; ys = 'temp (C)'\n",
    "    if yChoice == 'salinity':    y = salinity.salinity;       yt = salinity.time;    ys = 'salinity (psu)'\n",
    "    if yChoice == 'DO':          y = DO.DO;                   yt = DO.time;          ys = 'DO (ug/l)'\n",
    "\n",
    "    if yChoice == 'nitrate':     \n",
    "        y  = nitrate.nitrate        \n",
    "        yt = nitrate.time   \n",
    "        ys = 'nitrate'\n",
    "\n",
    "        if xChoice == 'depth':       x = nitrate.depth;       xt = nitrate.time; xs = 'depth (m)'\n",
    "        if xChoice == 'temperature': x = nitrate.temperature; xt = nitrate.time; xs = 'temp (C)'\n",
    "        if xChoice == 'salinity':    \n",
    "            x = nitrate.salinity\n",
    "            xt = nitrate.time; \n",
    "            xs = 'salinity (psu)'\n",
    "        if xChoice == 'DO':          x = nitrate.DO;          xt = nitrate.time; xs = 'DO (ug/l)'\n",
    "        \n",
    "    if yChoice == 'PAR':         \n",
    "        y  = par.par                 \n",
    "        yt = par.time         \n",
    "        ys = 'PAR'\n",
    "\n",
    "        if xChoice == 'depth':       x = par.depth;       xt = par.time; xs = 'depth (m)'\n",
    "        if xChoice == 'temperature': x = par.temperature; xt = par.time; xs = 'temp (C)'\n",
    "        if xChoice == 'salinity':    x = par.salinity;    xt = par.time; xs = 'salinity (psu)'\n",
    "        if xChoice == 'DO':          x = par.DO;          xt = par.time; xs = 'DO (ug/l)'\n",
    "        \n",
    "    if yChoice == 'chlor': \n",
    "        y  = fluor.fluor             \n",
    "        yt = fluor.time       \n",
    "        ys = 'chlor'\n",
    "        if xChoice == 'depth':       x = fluor.depth;       xt = fluor.time; xs = 'depth (m)'\n",
    "        if xChoice == 'temperature': x = fluor.temperature; xt = fluor.time; xs = 'temp (C)'\n",
    "        if xChoice == 'salinity':    x = fluor.salinity;    xt = fluor.time; xs = 'salinity (psu)'\n",
    "        if xChoice == 'DO':          x = fluor.DO;          xt = fluor.time; xs = 'DO (ug/l)'\n",
    "\n",
    "    XvY(x, y, xt, yt, xs, ys)\n",
    "\n",
    "interact(Caller, \n",
    "         xChoice = widgets.Select(options=['depth', 'temperature', 'salinity', 'DO'],\n",
    "                                           value='salinity', description='X axis', disabled = False),\n",
    "         yChoice = widgets.Select(options=['depth', 'temperature', 'salinity', 'DO', 'nitrate', 'PAR', 'chlor'],\n",
    "                                           value='temperature', description='Y axis', disabled = False))"
   ]
  },
  {
   "cell_type": "code",
   "execution_count": null,
   "metadata": {},
   "outputs": [],
   "source": [
    "fig,axes = plt.subplots()\n",
    "fig.set_size_inches(10,10)\n",
    "axes.invert_yaxis()\n",
    "axes.set(xlim=(32.0, 34.), ylim=(70., 280.), xlabel='Salinity (psu)', ylabel='Dissolved Oxygen (ug / liter)')\n",
    "for i in range(9):\n",
    "    psu3 = psu2.psu_hours.where(psu2.hours > tbds[i], drop=True)\n",
    "    psu4 = psu3.where(psu3.hours < tbds[i+1], drop=True).values\n",
    "    DO3  = DO2.DO_hours.where(DO2.hours > tbds[i], drop=True)\n",
    "    DO4  = DO3.where(DO3.hours < tbds[i+1], drop=True).values\n",
    "    axes.plot(psu4, DO4, ',', color = colorlist[i]) "
   ]
  },
  {
   "cell_type": "code",
   "execution_count": null,
   "metadata": {},
   "outputs": [],
   "source": [
    "fig,axes = plt.subplots()\n",
    "fig.set_size_inches(10,10)\n",
    "axes.invert_yaxis()\n",
    "axes.set(xlim=(7.0, 16.), ylim=(70., 280.), xlabel='Temperature (deg C)', ylabel='Dissolved Oxygen (ug / liter)')\n",
    "for i in range(9):\n",
    "    temperature3 = temperature2.temperature_hours.where(temperature2.hours > tbds[i], drop=True)\n",
    "    temperature4 = temperature3.where(temperature3.hours < tbds[i+1], drop=True).values\n",
    "    DO3  = DO2.DO_hours.where(DO2.hours > tbds[i], drop=True)\n",
    "    DO4  = DO3.where(DO3.hours < tbds[i+1], drop=True).values\n",
    "    axes.plot(temperature4, DO4, ',', color=colorlist[i]) "
   ]
  },
  {
   "cell_type": "code",
   "execution_count": null,
   "metadata": {},
   "outputs": [],
   "source": [
    "d.practical_salinity.plot() # This shows the tail data in the last three profiles"
   ]
  },
  {
   "cell_type": "code",
   "execution_count": null,
   "metadata": {},
   "outputs": [],
   "source": []
  },
  {
   "cell_type": "markdown",
   "metadata": {},
   "source": [
    "The following line magic harmonizes 3D figures with the Jupyter notebook."
   ]
  },
  {
   "cell_type": "code",
   "execution_count": null,
   "metadata": {},
   "outputs": [],
   "source": [
    "%config InlineBackend.print_figure_kwargs = {'bbox_inches':None}"
   ]
  },
  {
   "cell_type": "code",
   "execution_count": null,
   "metadata": {},
   "outputs": [],
   "source": [
    "# fig = plt.figure(figsize=plt.figaspect(1.0))\n",
    "fig = plt.figure(figsize=(11,11))\n",
    "axes = fig.gca(projection='3d')      # ...or axes = fig.add_subplot(111, projection='3d')\n",
    "scatter = axes.scatter(DO5, temperature5, psu5, c=depth5)\n",
    "axes.view_init(60, -30)             # 30, -60 (and dist = 10) are the defaults (use axes.azim, .elev, .dist)\n",
    "axes.set_xlabel(\"DO (umol/Liter)\")\n",
    "axes.set_ylabel(\"Temperature (deg C)\")\n",
    "axes.set_zlabel(\"Salinity (psu)\")\n",
    "fig.colorbar(scatter)\n",
    "fig.show()"
   ]
  },
  {
   "cell_type": "code",
   "execution_count": null,
   "metadata": {},
   "outputs": [],
   "source": [
    "# fig = plt.figure(figsize=plt.figaspect(1.0))\n",
    "fig = plt.figure(figsize=(11,11))\n",
    "axes = fig.gca(projection='3d')      # ...or axes = fig.add_subplot(111, projection='3d')\n",
    "scatter = axes.scatter(DO5, temperature5, psu5, c=depth5)\n",
    "axes.view_init(30, -60)             # 30, -60 (and dist = 10) are the defaults (use axes.azim, .elev, .dist)\n",
    "axes.set_xlabel(\"DO (umol/Liter)\")\n",
    "axes.set_ylabel(\"Temperature (deg C)\")\n",
    "axes.set_zlabel(\"Salinity (psu)\")\n",
    "fig.colorbar(scatter)\n",
    "fig.show()"
   ]
  },
  {
   "cell_type": "code",
   "execution_count": null,
   "metadata": {},
   "outputs": [],
   "source": [
    "# fig = plt.figure(figsize=plt.figaspect(1.0))\n",
    "fig = plt.figure(figsize=(11,11))\n",
    "axes = fig.gca(projection='3d')      # ...or axes = fig.add_subplot(111, projection='3d')\n",
    "scatter = axes.scatter(DO5, temperature5, psu5, c=depth5)\n",
    "axes.view_init(10, -90)             # 30, -60 (and dist = 10) are the defaults (use axes.azim, .elev, .dist)\n",
    "axes.set_xlabel(\"DO (umol/Liter)\")\n",
    "axes.set_ylabel(\"Temperature (deg C)\")\n",
    "axes.set_zlabel(\"Salinity (psu)\")\n",
    "fig.colorbar(scatter)\n",
    "fig.show()"
   ]
  },
  {
   "cell_type": "code",
   "execution_count": null,
   "metadata": {},
   "outputs": [],
   "source": [
    "# help(axes.view_init)\n",
    "# g.dirnou(axes)\n",
    "# axes.azim\n",
    "print(axes.azim, axes.elev, axes.dist)"
   ]
  },
  {
   "cell_type": "markdown",
   "metadata": {},
   "source": [
    "### including ARGO drifter data"
   ]
  },
  {
   "cell_type": "code",
   "execution_count": null,
   "metadata": {},
   "outputs": [],
   "source": [
    "# !wget ftp://ftp.ifremer.fr/ifremer/coriolis/tmp/co0501/DataSelection_20190320_035619_7746409.tgz"
   ]
  },
  {
   "cell_type": "code",
   "execution_count": 89,
   "metadata": {},
   "outputs": [
    {
     "data": {
      "text/plain": [
       "<xarray.Dataset>\n",
       "Dimensions:                       (N_CALIB: 1, N_HISTORY: 4, N_LEVELS: 70, N_PARAM: 3, N_PROF: 2)\n",
       "Dimensions without coordinates: N_CALIB, N_HISTORY, N_LEVELS, N_PARAM, N_PROF\n",
       "Data variables:\n",
       "    DATA_TYPE                     object ...\n",
       "    FORMAT_VERSION                object ...\n",
       "    HANDBOOK_VERSION              object ...\n",
       "    REFERENCE_DATE_TIME           object ...\n",
       "    DATE_CREATION                 object ...\n",
       "    DATE_UPDATE                   object ...\n",
       "    PLATFORM_NUMBER               (N_PROF) object ...\n",
       "    PROJECT_NAME                  (N_PROF) object ...\n",
       "    PI_NAME                       (N_PROF) object ...\n",
       "    STATION_PARAMETERS            (N_PROF, N_PARAM) object ...\n",
       "    CYCLE_NUMBER                  (N_PROF) float64 ...\n",
       "    DIRECTION                     (N_PROF) object ...\n",
       "    DATA_CENTRE                   (N_PROF) object ...\n",
       "    DC_REFERENCE                  (N_PROF) object ...\n",
       "    DATA_STATE_INDICATOR          (N_PROF) object ...\n",
       "    DATA_MODE                     (N_PROF) object ...\n",
       "    PLATFORM_TYPE                 (N_PROF) object ...\n",
       "    FLOAT_SERIAL_NO               (N_PROF) object ...\n",
       "    FIRMWARE_VERSION              (N_PROF) object ...\n",
       "    WMO_INST_TYPE                 (N_PROF) object ...\n",
       "    JULD                          (N_PROF) datetime64[ns] ...\n",
       "    JULD_QC                       (N_PROF) object ...\n",
       "    JULD_LOCATION                 (N_PROF) datetime64[ns] ...\n",
       "    LATITUDE                      (N_PROF) float64 ...\n",
       "    LONGITUDE                     (N_PROF) float64 ...\n",
       "    POSITION_QC                   (N_PROF) object ...\n",
       "    POSITIONING_SYSTEM            (N_PROF) object ...\n",
       "    PROFILE_PRES_QC               (N_PROF) object ...\n",
       "    PROFILE_TEMP_QC               (N_PROF) object ...\n",
       "    PROFILE_PSAL_QC               (N_PROF) object ...\n",
       "    VERTICAL_SAMPLING_SCHEME      (N_PROF) object ...\n",
       "    CONFIG_MISSION_NUMBER         (N_PROF) float64 ...\n",
       "    PRES                          (N_PROF, N_LEVELS) float32 ...\n",
       "    PRES_QC                       (N_PROF, N_LEVELS) object ...\n",
       "    PRES_ADJUSTED                 (N_PROF, N_LEVELS) float32 ...\n",
       "    PRES_ADJUSTED_QC              (N_PROF, N_LEVELS) object ...\n",
       "    PRES_ADJUSTED_ERROR           (N_PROF, N_LEVELS) float32 ...\n",
       "    TEMP                          (N_PROF, N_LEVELS) float32 ...\n",
       "    TEMP_QC                       (N_PROF, N_LEVELS) object ...\n",
       "    TEMP_ADJUSTED                 (N_PROF, N_LEVELS) float32 ...\n",
       "    TEMP_ADJUSTED_QC              (N_PROF, N_LEVELS) object ...\n",
       "    TEMP_ADJUSTED_ERROR           (N_PROF, N_LEVELS) float32 ...\n",
       "    PSAL                          (N_PROF, N_LEVELS) float32 ...\n",
       "    PSAL_QC                       (N_PROF, N_LEVELS) object ...\n",
       "    PSAL_ADJUSTED                 (N_PROF, N_LEVELS) float32 ...\n",
       "    PSAL_ADJUSTED_QC              (N_PROF, N_LEVELS) object ...\n",
       "    PSAL_ADJUSTED_ERROR           (N_PROF, N_LEVELS) float32 ...\n",
       "    PARAMETER                     (N_PROF, N_CALIB, N_PARAM) object ...\n",
       "    SCIENTIFIC_CALIB_EQUATION     (N_PROF, N_CALIB, N_PARAM) object ...\n",
       "    SCIENTIFIC_CALIB_COEFFICIENT  (N_PROF, N_CALIB, N_PARAM) object ...\n",
       "    SCIENTIFIC_CALIB_COMMENT      (N_PROF, N_CALIB, N_PARAM) object ...\n",
       "    SCIENTIFIC_CALIB_DATE         (N_PROF, N_CALIB, N_PARAM) object ...\n",
       "    HISTORY_INSTITUTION           (N_HISTORY, N_PROF) object ...\n",
       "    HISTORY_STEP                  (N_HISTORY, N_PROF) object ...\n",
       "    HISTORY_SOFTWARE              (N_HISTORY, N_PROF) object ...\n",
       "    HISTORY_SOFTWARE_RELEASE      (N_HISTORY, N_PROF) object ...\n",
       "    HISTORY_REFERENCE             (N_HISTORY, N_PROF) object ...\n",
       "    HISTORY_DATE                  (N_HISTORY, N_PROF) object ...\n",
       "    HISTORY_ACTION                (N_HISTORY, N_PROF) object ...\n",
       "    HISTORY_PARAMETER             (N_HISTORY, N_PROF) object ...\n",
       "    HISTORY_START_PRES            (N_HISTORY, N_PROF) float32 ...\n",
       "    HISTORY_STOP_PRES             (N_HISTORY, N_PROF) float32 ...\n",
       "    HISTORY_PREVIOUS_VALUE        (N_HISTORY, N_PROF) float32 ...\n",
       "    HISTORY_QCTEST                (N_HISTORY, N_PROF) object ...\n",
       "Attributes:\n",
       "    title:                Argo float vertical profile\n",
       "    institution:          AOML\n",
       "    source:               Argo float\n",
       "    history:              2019-03-20T03:56:24Z creation\n",
       "    references:           http://www.argodatamgt.org/Documentation\n",
       "    comment:              \n",
       "    user_manual_version:  3.03\n",
       "    Conventions:          Argo-3.0 CF-1.6\n",
       "    featureType:          trajectoryProfile"
      ]
     },
     "execution_count": 89,
     "metadata": {},
     "output_type": "execute_result"
    }
   ],
   "source": [
    "argo1 = xr.open_dataset('data/argo_profile_1.nc')\n",
    "argo2 = xr.open_dataset('data/argo_profile_2.nc')\n",
    "argo2"
   ]
  },
  {
   "cell_type": "code",
   "execution_count": 90,
   "metadata": {},
   "outputs": [
    {
     "name": "stdout",
     "output_type": "stream",
     "text": [
      "<xarray.DataArray 'LATITUDE' ()>\n",
      "array(44.136)\n",
      "Attributes:\n",
      "    long_name:      Latitude of the station, best estimate\n",
      "    standard_name:  latitude\n",
      "    units:          degree_north\n",
      "    valid_min:      -90.0\n",
      "    valid_max:      90.0\n",
      "    axis:           Y <xarray.DataArray 'LONGITUDE' ()>\n",
      "array(-127.704)\n",
      "Attributes:\n",
      "    long_name:      Longitude of the station, best estimate\n",
      "    standard_name:  longitude\n",
      "    units:          degree_east\n",
      "    valid_min:      -180.0\n",
      "    valid_max:      180.0\n",
      "    axis:           X\n",
      "<xarray.DataArray 'LATITUDE' ()>\n",
      "array(43.6)\n",
      "Attributes:\n",
      "    long_name:      Latitude of the station, best estimate\n",
      "    standard_name:  latitude\n",
      "    units:          degree_north\n",
      "    valid_min:      -90.0\n",
      "    valid_max:      90.0\n",
      "    axis:           Y <xarray.DataArray 'LONGITUDE' ()>\n",
      "array(-127.192)\n",
      "Attributes:\n",
      "    long_name:      Longitude of the station, best estimate\n",
      "    standard_name:  longitude\n",
      "    units:          degree_east\n",
      "    valid_min:      -180.0\n",
      "    valid_max:      180.0\n",
      "    axis:           X <xarray.DataArray 'LATITUDE' ()>\n",
      "array(43.6)\n",
      "Attributes:\n",
      "    long_name:      Latitude of the station, best estimate\n",
      "    standard_name:  latitude\n",
      "    units:          degree_north\n",
      "    valid_min:      -90.0\n",
      "    valid_max:      90.0\n",
      "    axis:           Y <xarray.DataArray 'LONGITUDE' ()>\n",
      "array(-127.192)\n",
      "Attributes:\n",
      "    long_name:      Longitude of the station, best estimate\n",
      "    standard_name:  longitude\n",
      "    units:          degree_east\n",
      "    valid_min:      -180.0\n",
      "    valid_max:      180.0\n",
      "    axis:           X\n"
     ]
    }
   ],
   "source": [
    "print(argo1.LATITUDE[0], argo1.LONGITUDE[0])\n",
    "print(argo2.LATITUDE[0], argo2.LONGITUDE[0], argo2.LATITUDE[1], argo2.LONGITUDE[1])"
   ]
  },
  {
   "cell_type": "code",
   "execution_count": 91,
   "metadata": {},
   "outputs": [
    {
     "name": "stdout",
     "output_type": "stream",
     "text": [
      "<xarray.DataArray 'JULD' (N_PROF: 1)>\n",
      "array(['2017-08-23T05:24:46.000000000'], dtype='datetime64[ns]')\n",
      "Dimensions without coordinates: N_PROF\n",
      "Attributes:\n",
      "    long_name:      Julian day (UTC) of the station relative to REFERENCE_DAT...\n",
      "    standard_name:  time\n",
      "    conventions:    Relative julian days with decimal part (as parts of day)\n",
      "    axis:           T\n",
      "<xarray.DataArray 'TEMP_ADJUSTED' (N_LEVELS: 70)>\n",
      "array([16.062, 15.978, 15.835, 12.84 , 11.611, 12.009, 10.301, 11.018, 10.565,\n",
      "        9.725,  9.484,  9.03 ,  8.705,  8.436,  8.341,  8.135,  7.978,  7.779,\n",
      "        7.636,  7.521,  7.372,  7.32 ,  7.262,  7.131,  7.083,  7.056,  6.992,\n",
      "        6.945,  6.844,  6.66 ,  6.585,  6.503,  6.399,  6.339,  6.325,  6.306,\n",
      "        6.007,  5.699,  5.774,  5.699,  5.065,  4.798,  4.615,  4.5  ,  4.483,\n",
      "        4.325,  4.195,  4.049,  3.935,  3.809,  3.696,  3.539,  3.355,  3.265,\n",
      "        3.119,  3.047,  2.979,  2.901,  2.762,  2.661,  2.589,  2.523,  2.451,\n",
      "        2.366,  2.296,  2.2  ,  2.14 ,  2.069,  2.004,  1.958], dtype=float32)\n",
      "Dimensions without coordinates: N_LEVELS\n",
      "Attributes:\n",
      "    long_name:       SEA TEMPERATURE IN SITU ITS-90 SCALE\n",
      "    standard_name:   sea_water_temperature\n",
      "    units:           degree_Celsius\n",
      "    valid_min:       -2.0\n",
      "    valid_max:       40.0\n",
      "    C_format:        %9.3f\n",
      "    FORTRAN_format:  F9.3\n",
      "    resolution:      0.001\n",
      "<xarray.DataArray 'PRES_ADJUSTED' (N_LEVELS: 70)>\n",
      "array([   6.1,   10.6,   19.8,   30.5,   40.1,   50.4,   60.5,   70.4,   80.3,\n",
      "         90.5,  100.8,  110. ,  120.5,  129.9,  139.8,  149.8,  160.4,  170.4,\n",
      "        180. ,  188.5,  200.5,  210.9,  220.6,  230.1,  240.8,  250.2,  260.7,\n",
      "        270. ,  280.4,  290. ,  300.7,  310.1,  320.6,  330.6,  340.7,  350. ,\n",
      "        360.6,  380.3,  400.3,  449.8,  500.7,  550.5,  600. ,  650. ,  700.6,\n",
      "        750.5,  797.7,  850.3,  900.7,  950.3, 1000.3, 1050.1, 1100.2, 1147.8,\n",
      "       1200.4, 1250.1, 1299.9, 1350. , 1400.1, 1450.3, 1500. , 1550.1, 1600. ,\n",
      "       1650. , 1699.7, 1750.6, 1800.1, 1850.3, 1899.5, 1950.1], dtype=float32)\n",
      "Dimensions without coordinates: N_LEVELS\n",
      "Attributes:\n",
      "    long_name:       SEA PRESSURE\n",
      "    standard_name:   sea_water_pressure\n",
      "    units:           decibar\n",
      "    valid_min:       0.0\n",
      "    valid_max:       12000.0\n",
      "    C_format:        %7.1f\n",
      "    FORTRAN_format:  F7.1\n",
      "    resolution:      0.1\n",
      "    axis:            Z\n"
     ]
    }
   ],
   "source": [
    "print(argo1.JULD)\n",
    "print(argo2.TEMP_ADJUSTED[0])\n",
    "print(argo2.PRES_ADJUSTED[0])"
   ]
  },
  {
   "cell_type": "code",
   "execution_count": 92,
   "metadata": {},
   "outputs": [
    {
     "data": {
      "text/plain": [
       "<xarray.Dataset>\n",
       "Dimensions:  (depth: 70)\n",
       "Coordinates:\n",
       "  * depth    (depth) float32 6.1 10.6 19.8 30.5 ... 1800.1 1850.3 1899.5 1950.1\n",
       "Data variables:\n",
       "    psu      (depth) float32 32.2636 32.28154 32.31345 ... 34.58297 34.58093"
      ]
     },
     "execution_count": 92,
     "metadata": {},
     "output_type": "execute_result"
    }
   ],
   "source": [
    "a2psu=argo2.PSAL_ADJUSTED[0].to_dataset(name='psu')\n",
    "a2psu.coords['depth'] = ('depth', argo2.PRES_ADJUSTED[0])\n",
    "a2psu['psu'] = (('depth'), a2psu.psu)\n",
    "a2psu"
   ]
  },
  {
   "cell_type": "code",
   "execution_count": 93,
   "metadata": {},
   "outputs": [
    {
     "data": {
      "text/plain": [
       "[(200.0, 0.0), (32.0, 34.0)]"
      ]
     },
     "execution_count": 93,
     "metadata": {},
     "output_type": "execute_result"
    },
    {
     "data": {
      "image/png": "[encoded data removed]",
      "text/plain": [
       "<Figure size 1008x648 with 1 Axes>"
      ]
     },
     "metadata": {},
     "output_type": "display_data"
    }
   ],
   "source": [
    "argo_d = g.SetDataDirectory('ooi/argo')\n",
    "argo1 = xr.open_dataset(argo_d + 'profile1.nc')\n",
    "argo2 = xr.open_dataset(argo_d + 'profile2.nc')\n",
    "a2psu=argo2.PSAL_ADJUSTED[0].to_dataset(name='psu')\n",
    "a2psu.coords['depth'] = ('depth', argo2.PRES_ADJUSTED[0])\n",
    "a2psu['psu'] = (('depth'), a2psu.psu)\n",
    "f,a = plt.subplots()\n",
    "f.set_size_inches(14,9)\n",
    "a.plot(a2psu.psu.values, a2psu.depth.values, '^', color='red')\n",
    "a.set(ylim=(200.,0.), xlim=(32.,34.))"
   ]
  }
 ],
 "metadata": {
  "kernelspec": {
   "display_name": "Python [conda root]",
   "language": "python",
   "name": "conda-root-py"
  },
  "language_info": {
   "codemirror_mode": {
    "name": "ipython",
    "version": 3
   },
   "file_extension": ".py",
   "mimetype": "text/x-python",
   "name": "python",
   "nbconvert_exporter": "python",
   "pygments_lexer": "ipython3",
   "version": "3.6.6"
  }
 },
 "nbformat": 4,
 "nbformat_minor": 2
}
